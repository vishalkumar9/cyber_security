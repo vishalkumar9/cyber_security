{
  "nbformat": 4,
  "nbformat_minor": 0,
  "metadata": {
    "colab": {
      "name": "Social media sentiment analysis using twitter dataset.ipynb",
      "provenance": [],
      "authorship_tag": "ABX9TyMGLwcchhLVlpMcTh2InVsw",
      "include_colab_link": true
    },
    "kernelspec": {
      "name": "python3",
      "display_name": "Python 3"
    }
  },
  "cells": [
    {
      "cell_type": "markdown",
      "metadata": {
        "id": "view-in-github",
        "colab_type": "text"
      },
      "source": [
        "<a href=\"https://colab.research.google.com/github/vishalkumar9/cyber_security/blob/master/Social_media_sentiment_analysis_using_twitter_dataset.ipynb\" target=\"_parent\"><img src=\"https://colab.research.google.com/assets/colab-badge.svg\" alt=\"Open In Colab\"/></a>"
      ]
    },
    {
      "cell_type": "code",
      "metadata": {
        "id": "oxVWbNiDfLpK",
        "colab_type": "code",
        "colab": {
          "base_uri": "https://localhost:8080/",
          "height": 462
        },
        "outputId": "04216976-c163-44a7-b5d9-7e467889e88f"
      },
      "source": [
        "!pip install pandas\n",
        "!pip install tweepy\n",
        "!pip install vaderSentiment"
      ],
      "execution_count": null,
      "outputs": [
        {
          "output_type": "stream",
          "text": [
            "Requirement already satisfied: pandas in /usr/local/lib/python3.6/dist-packages (1.0.5)\n",
            "Requirement already satisfied: pytz>=2017.2 in /usr/local/lib/python3.6/dist-packages (from pandas) (2018.9)\n",
            "Requirement already satisfied: python-dateutil>=2.6.1 in /usr/local/lib/python3.6/dist-packages (from pandas) (2.8.1)\n",
            "Requirement already satisfied: numpy>=1.13.3 in /usr/local/lib/python3.6/dist-packages (from pandas) (1.18.5)\n",
            "Requirement already satisfied: six>=1.5 in /usr/local/lib/python3.6/dist-packages (from python-dateutil>=2.6.1->pandas) (1.15.0)\n",
            "Requirement already satisfied: tweepy in /usr/local/lib/python3.6/dist-packages (3.6.0)\n",
            "Requirement already satisfied: requests-oauthlib>=0.7.0 in /usr/local/lib/python3.6/dist-packages (from tweepy) (1.3.0)\n",
            "Requirement already satisfied: six>=1.10.0 in /usr/local/lib/python3.6/dist-packages (from tweepy) (1.15.0)\n",
            "Requirement already satisfied: requests>=2.11.1 in /usr/local/lib/python3.6/dist-packages (from tweepy) (2.23.0)\n",
            "Requirement already satisfied: PySocks>=1.5.7 in /usr/local/lib/python3.6/dist-packages (from tweepy) (1.7.1)\n",
            "Requirement already satisfied: oauthlib>=3.0.0 in /usr/local/lib/python3.6/dist-packages (from requests-oauthlib>=0.7.0->tweepy) (3.1.0)\n",
            "Requirement already satisfied: chardet<4,>=3.0.2 in /usr/local/lib/python3.6/dist-packages (from requests>=2.11.1->tweepy) (3.0.4)\n",
            "Requirement already satisfied: certifi>=2017.4.17 in /usr/local/lib/python3.6/dist-packages (from requests>=2.11.1->tweepy) (2020.6.20)\n",
            "Requirement already satisfied: idna<3,>=2.5 in /usr/local/lib/python3.6/dist-packages (from requests>=2.11.1->tweepy) (2.10)\n",
            "Requirement already satisfied: urllib3!=1.25.0,!=1.25.1,<1.26,>=1.21.1 in /usr/local/lib/python3.6/dist-packages (from requests>=2.11.1->tweepy) (1.24.3)\n",
            "Collecting vaderSentiment\n",
            "\u001b[?25l  Downloading https://files.pythonhosted.org/packages/76/fc/310e16254683c1ed35eeb97386986d6c00bc29df17ce280aed64d55537e9/vaderSentiment-3.3.2-py2.py3-none-any.whl (125kB)\n",
            "\u001b[K     |████████████████████████████████| 133kB 2.6MB/s \n",
            "\u001b[?25hRequirement already satisfied: requests in /usr/local/lib/python3.6/dist-packages (from vaderSentiment) (2.23.0)\n",
            "Requirement already satisfied: chardet<4,>=3.0.2 in /usr/local/lib/python3.6/dist-packages (from requests->vaderSentiment) (3.0.4)\n",
            "Requirement already satisfied: certifi>=2017.4.17 in /usr/local/lib/python3.6/dist-packages (from requests->vaderSentiment) (2020.6.20)\n",
            "Requirement already satisfied: urllib3!=1.25.0,!=1.25.1,<1.26,>=1.21.1 in /usr/local/lib/python3.6/dist-packages (from requests->vaderSentiment) (1.24.3)\n",
            "Requirement already satisfied: idna<3,>=2.5 in /usr/local/lib/python3.6/dist-packages (from requests->vaderSentiment) (2.10)\n",
            "Installing collected packages: vaderSentiment\n",
            "Successfully installed vaderSentiment-3.3.2\n"
          ],
          "name": "stdout"
        }
      ]
    },
    {
      "cell_type": "code",
      "metadata": {
        "id": "AL88SOKWfSyy",
        "colab_type": "code",
        "colab": {
          "base_uri": "https://localhost:8080/",
          "height": 71
        },
        "outputId": "afebf23e-78aa-4f49-8aec-fc28df37be58"
      },
      "source": [
        "import tweepy\n",
        "import pandas as pd\n",
        "from nltk.sentiment.vader import SentimentIntensityAnalyzer"
      ],
      "execution_count": null,
      "outputs": [
        {
          "output_type": "stream",
          "text": [
            "/usr/local/lib/python3.6/dist-packages/nltk/twitter/__init__.py:20: UserWarning: The twython library has not been installed. Some functionality from the twitter package will not be available.\n",
            "  warnings.warn(\"The twython library has not been installed. \"\n"
          ],
          "name": "stderr"
        }
      ]
    },
    {
      "cell_type": "code",
      "metadata": {
        "id": "1aQbYMg2fVSD",
        "colab_type": "code",
        "colab": {}
      },
      "source": [
        "#My Twitter API Authentication Variables\n",
        "consumer_key = ''\n",
        "consumer_secret = ''\n",
        "access_token = ''\n",
        "access_token_secret = ''"
      ],
      "execution_count": null,
      "outputs": []
    },
    {
      "cell_type": "code",
      "metadata": {
        "id": "O6VaBnM0fY-r",
        "colab_type": "code",
        "colab": {
          "base_uri": "https://localhost:8080/",
          "height": 376
        },
        "outputId": "a6530b0e-37d7-47f0-fd5e-0265295a03c2"
      },
      "source": [
        "auth = tweepy.OAuthHandler(consumer_key, consumer_secret)\n",
        "auth.set_access_token(access_token, access_token_secret)\n",
        "\n",
        "api = tweepy.API(auth)\n",
        "\n",
        "tweets = api.search('IndianArmy', count=200)\n",
        "\n",
        "\n",
        "data = pd.DataFrame(data=[tweet.text for tweet in tweets], columns=['Tweets'])\n",
        "\n",
        "display(data.head(10))\n",
        "\n",
        "\n",
        "print(tweets[0].created_at)\n"
      ],
      "execution_count": null,
      "outputs": [
        {
          "output_type": "display_data",
          "data": {
            "text/html": [
              "<div>\n",
              "<style scoped>\n",
              "    .dataframe tbody tr th:only-of-type {\n",
              "        vertical-align: middle;\n",
              "    }\n",
              "\n",
              "    .dataframe tbody tr th {\n",
              "        vertical-align: top;\n",
              "    }\n",
              "\n",
              "    .dataframe thead th {\n",
              "        text-align: right;\n",
              "    }\n",
              "</style>\n",
              "<table border=\"1\" class=\"dataframe\">\n",
              "  <thead>\n",
              "    <tr style=\"text-align: right;\">\n",
              "      <th></th>\n",
              "      <th>Tweets</th>\n",
              "    </tr>\n",
              "  </thead>\n",
              "  <tbody>\n",
              "    <tr>\n",
              "      <th>0</th>\n",
              "      <td>RT @bishwa55900127: Ha ha ha...\\n\\nAfter shots...</td>\n",
              "    </tr>\n",
              "    <tr>\n",
              "      <th>1</th>\n",
              "      <td>RT @Neelakantesh: Dear @globaltimesnews, if u ...</td>\n",
              "    </tr>\n",
              "    <tr>\n",
              "      <th>2</th>\n",
              "      <td>RT @Neelakantesh: Dear @globaltimesnews, if u ...</td>\n",
              "    </tr>\n",
              "    <tr>\n",
              "      <th>3</th>\n",
              "      <td>RT @AU_DehradunNews: #उत्तराखंड के चमोली जिले ...</td>\n",
              "    </tr>\n",
              "    <tr>\n",
              "      <th>4</th>\n",
              "      <td>RT @AbhishekBhalla7: Winter clothing for troop...</td>\n",
              "    </tr>\n",
              "    <tr>\n",
              "      <th>5</th>\n",
              "      <td>RT @activator_n: See @globaltimesnews and show...</td>\n",
              "    </tr>\n",
              "    <tr>\n",
              "      <th>6</th>\n",
              "      <td>RT @adgpi: General MM Naravane #COAS and all r...</td>\n",
              "    </tr>\n",
              "    <tr>\n",
              "      <th>7</th>\n",
              "      <td>RT @Neelakantesh: Dear @globaltimesnews, if u ...</td>\n",
              "    </tr>\n",
              "    <tr>\n",
              "      <th>8</th>\n",
              "      <td>RT @AU_DehradunNews: #उत्तराखंड के चमोली जिले ...</td>\n",
              "    </tr>\n",
              "    <tr>\n",
              "      <th>9</th>\n",
              "      <td>Ha ha ha...\\n\\nAfter shots did not work agains...</td>\n",
              "    </tr>\n",
              "  </tbody>\n",
              "</table>\n",
              "</div>"
            ],
            "text/plain": [
              "                                              Tweets\n",
              "0  RT @bishwa55900127: Ha ha ha...\\n\\nAfter shots...\n",
              "1  RT @Neelakantesh: Dear @globaltimesnews, if u ...\n",
              "2  RT @Neelakantesh: Dear @globaltimesnews, if u ...\n",
              "3  RT @AU_DehradunNews: #उत्तराखंड के चमोली जिले ...\n",
              "4  RT @AbhishekBhalla7: Winter clothing for troop...\n",
              "5  RT @activator_n: See @globaltimesnews and show...\n",
              "6  RT @adgpi: General MM Naravane #COAS and all r...\n",
              "7  RT @Neelakantesh: Dear @globaltimesnews, if u ...\n",
              "8  RT @AU_DehradunNews: #उत्तराखंड के चमोली जिले ...\n",
              "9  Ha ha ha...\\n\\nAfter shots did not work agains..."
            ]
          },
          "metadata": {
            "tags": []
          }
        },
        {
          "output_type": "stream",
          "text": [
            "2020-09-16 15:18:39\n"
          ],
          "name": "stdout"
        }
      ]
    },
    {
      "cell_type": "code",
      "metadata": {
        "id": "aQqBs2UKfjMA",
        "colab_type": "code",
        "colab": {
          "base_uri": "https://localhost:8080/",
          "height": 419
        },
        "outputId": "b721b9ca-3167-48ba-cc5d-329b36e2b5bc"
      },
      "source": [
        "sid = SentimentIntensityAnalyzer()\n",
        "\n",
        "\n",
        "listy = []\n",
        "\n",
        "for index, row in data.iterrows():\n",
        "  ss = sid.polarity_scores(row[\"Tweets\"])\n",
        "  listy.append(ss)\n",
        "  \n",
        "se = pd.Series(listy)\n",
        "data['polarity'] = se.values\n",
        "\n",
        "display(data.head(100))"
      ],
      "execution_count": null,
      "outputs": [
        {
          "output_type": "display_data",
          "data": {
            "text/html": [
              "<div>\n",
              "<style scoped>\n",
              "    .dataframe tbody tr th:only-of-type {\n",
              "        vertical-align: middle;\n",
              "    }\n",
              "\n",
              "    .dataframe tbody tr th {\n",
              "        vertical-align: top;\n",
              "    }\n",
              "\n",
              "    .dataframe thead th {\n",
              "        text-align: right;\n",
              "    }\n",
              "</style>\n",
              "<table border=\"1\" class=\"dataframe\">\n",
              "  <thead>\n",
              "    <tr style=\"text-align: right;\">\n",
              "      <th></th>\n",
              "      <th>Tweets</th>\n",
              "      <th>polarity</th>\n",
              "    </tr>\n",
              "  </thead>\n",
              "  <tbody>\n",
              "    <tr>\n",
              "      <th>0</th>\n",
              "      <td>RT @bishwa55900127: Ha ha ha...\\n\\nAfter shots...</td>\n",
              "      <td>{'neg': 0.0, 'neu': 0.798, 'pos': 0.202, 'comp...</td>\n",
              "    </tr>\n",
              "    <tr>\n",
              "      <th>1</th>\n",
              "      <td>RT @Neelakantesh: Dear @globaltimesnews, if u ...</td>\n",
              "      <td>{'neg': 0.0, 'neu': 0.833, 'pos': 0.167, 'comp...</td>\n",
              "    </tr>\n",
              "    <tr>\n",
              "      <th>2</th>\n",
              "      <td>RT @Neelakantesh: Dear @globaltimesnews, if u ...</td>\n",
              "      <td>{'neg': 0.0, 'neu': 0.833, 'pos': 0.167, 'comp...</td>\n",
              "    </tr>\n",
              "    <tr>\n",
              "      <th>3</th>\n",
              "      <td>RT @AU_DehradunNews: #उत्तराखंड के चमोली जिले ...</td>\n",
              "      <td>{'neg': 0.0, 'neu': 1.0, 'pos': 0.0, 'compound...</td>\n",
              "    </tr>\n",
              "    <tr>\n",
              "      <th>4</th>\n",
              "      <td>RT @AbhishekBhalla7: Winter clothing for troop...</td>\n",
              "      <td>{'neg': 0.114, 'neu': 0.787, 'pos': 0.098, 'co...</td>\n",
              "    </tr>\n",
              "    <tr>\n",
              "      <th>...</th>\n",
              "      <td>...</td>\n",
              "      <td>...</td>\n",
              "    </tr>\n",
              "    <tr>\n",
              "      <th>95</th>\n",
              "      <td>RT @NikhilCh_: Evacuation drill at #Leh. #Indi...</td>\n",
              "      <td>{'neg': 0.0, 'neu': 1.0, 'pos': 0.0, 'compound...</td>\n",
              "    </tr>\n",
              "    <tr>\n",
              "      <th>96</th>\n",
              "      <td>RT @Mohanlal: Salute to the Brave Hearts\\n#Ind...</td>\n",
              "      <td>{'neg': 0.0, 'neu': 0.702, 'pos': 0.298, 'comp...</td>\n",
              "    </tr>\n",
              "    <tr>\n",
              "      <th>97</th>\n",
              "      <td>RT @Mohanlal: Salute to the Brave Hearts\\n#Ind...</td>\n",
              "      <td>{'neg': 0.0, 'neu': 0.702, 'pos': 0.298, 'comp...</td>\n",
              "    </tr>\n",
              "    <tr>\n",
              "      <th>98</th>\n",
              "      <td>RT @thewirehindi: छह महीने में भारत-चीन सीमा प...</td>\n",
              "      <td>{'neg': 0.0, 'neu': 1.0, 'pos': 0.0, 'compound...</td>\n",
              "    </tr>\n",
              "    <tr>\n",
              "      <th>99</th>\n",
              "      <td>RT @adgpi: General MM Naravane #COAS and all r...</td>\n",
              "      <td>{'neg': 0.0, 'neu': 0.859, 'pos': 0.141, 'comp...</td>\n",
              "    </tr>\n",
              "  </tbody>\n",
              "</table>\n",
              "<p>100 rows × 2 columns</p>\n",
              "</div>"
            ],
            "text/plain": [
              "                                               Tweets                                           polarity\n",
              "0   RT @bishwa55900127: Ha ha ha...\\n\\nAfter shots...  {'neg': 0.0, 'neu': 0.798, 'pos': 0.202, 'comp...\n",
              "1   RT @Neelakantesh: Dear @globaltimesnews, if u ...  {'neg': 0.0, 'neu': 0.833, 'pos': 0.167, 'comp...\n",
              "2   RT @Neelakantesh: Dear @globaltimesnews, if u ...  {'neg': 0.0, 'neu': 0.833, 'pos': 0.167, 'comp...\n",
              "3   RT @AU_DehradunNews: #उत्तराखंड के चमोली जिले ...  {'neg': 0.0, 'neu': 1.0, 'pos': 0.0, 'compound...\n",
              "4   RT @AbhishekBhalla7: Winter clothing for troop...  {'neg': 0.114, 'neu': 0.787, 'pos': 0.098, 'co...\n",
              "..                                                ...                                                ...\n",
              "95  RT @NikhilCh_: Evacuation drill at #Leh. #Indi...  {'neg': 0.0, 'neu': 1.0, 'pos': 0.0, 'compound...\n",
              "96  RT @Mohanlal: Salute to the Brave Hearts\\n#Ind...  {'neg': 0.0, 'neu': 0.702, 'pos': 0.298, 'comp...\n",
              "97  RT @Mohanlal: Salute to the Brave Hearts\\n#Ind...  {'neg': 0.0, 'neu': 0.702, 'pos': 0.298, 'comp...\n",
              "98  RT @thewirehindi: छह महीने में भारत-चीन सीमा प...  {'neg': 0.0, 'neu': 1.0, 'pos': 0.0, 'compound...\n",
              "99  RT @adgpi: General MM Naravane #COAS and all r...  {'neg': 0.0, 'neu': 0.859, 'pos': 0.141, 'comp...\n",
              "\n",
              "[100 rows x 2 columns]"
            ]
          },
          "metadata": {
            "tags": []
          }
        }
      ]
    },
    {
      "cell_type": "code",
      "metadata": {
        "id": "DTPPMUXnffMk",
        "colab_type": "code",
        "colab": {
          "base_uri": "https://localhost:8080/",
          "height": 51
        },
        "outputId": "21de7f1f-ca40-418e-8ad7-86b2aba96bd8"
      },
      "source": [
        "import nltk\n",
        "nltk.download('vader_lexicon')"
      ],
      "execution_count": null,
      "outputs": [
        {
          "output_type": "stream",
          "text": [
            "[nltk_data] Downloading package vader_lexicon to /root/nltk_data...\n"
          ],
          "name": "stdout"
        },
        {
          "output_type": "execute_result",
          "data": {
            "text/plain": [
              "True"
            ]
          },
          "metadata": {
            "tags": []
          },
          "execution_count": 5
        }
      ]
    }
  ]
}